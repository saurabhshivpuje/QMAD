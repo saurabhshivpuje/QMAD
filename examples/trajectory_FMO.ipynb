{
 "cells": [
  {
   "cell_type": "code",
   "execution_count": 1,
   "metadata": {},
   "outputs": [
    {
     "ename": "",
     "evalue": "",
     "output_type": "error",
     "traceback": [
      "\u001b[1;31mFailed to start the Kernel. \n",
      "\u001b[1;31mConnection is disposed. \n",
      "\u001b[1;31mView Jupyter <a href='command:jupyter.viewOutput'>log</a> for further details."
     ]
    }
   ],
   "source": [
    "import numpy as np\n",
    "import matplotlib.pyplot as plt\n",
    "from multiprocessing import Pool\n",
    "import matplotlib.pyplot as plt"
   ]
  },
  {
   "cell_type": "markdown",
   "metadata": {},
   "source": [
    "FMO Complex"
   ]
  },
  {
   "cell_type": "code",
   "execution_count": 2,
   "metadata": {},
   "outputs": [],
   "source": [
    "H = [\n",
    "    [0, 0, 0, 0, 0],\n",
    "    [0, 0.0267, -0.0129, 0.000632, 0],\n",
    "    [0, -0.0129, 0.0273, 0.00404, 0],\n",
    "    [0, 0.000632, 0.00404, 0, 0],\n",
    "    [0, 0, 0, 0, 0],\n",
    "]\n",
    "H_fmo= np.pad(H, ((0, 3), (0, 3)), mode='constant')\n",
    "\n",
    "alpha, beta, gamma = 3e-3, 5e-7, 6.28e-3\n",
    "\n",
    "# Define the alpha operators\n",
    "Llist_f = [(np.diag([0] * i + [np.sqrt(alpha)] + [0] * (4 - i))) for i in range(1, 4)]\n",
    "\n",
    "# Define the beta operators\n",
    "Llist_f += [(np.array([[np.sqrt(beta) if i == 0 and j == k else 0 for j in range(5)] for i in range(5)])) for k in range(1, 4)]\n",
    "\n",
    "# Define the gamma operator\n",
    "L_temp = np.zeros((5, 5))\n",
    "L_temp[4, 3] = np.sqrt(gamma)\n",
    "Llist_f.append(L_temp)\n",
    "Llist_f_padded = [np.pad(matrix, ((0, 3), (0, 3)), mode='constant') for matrix in Llist_f]\n",
    "\n",
    "#initial state\n",
    "u0_fmo = np.zeros(8,dtype=np.complex_)\n",
    "u0_fmo[1] = 1"
   ]
  },
  {
   "cell_type": "code",
   "execution_count": null,
   "metadata": {},
   "outputs": [],
   "source": [
    "# Parallel execution of trajectories\n",
    "def run_trajectories(num_trajectory, H, ansatz, tf, dt):\n",
    "    # Create a list of tuples with the required parameters for each trajectory\n",
    "    param_list = [(H, ansatz, tf, dt) for _ in range(num_trajectory)]\n",
    "    \n",
    "    with Pool() as pool:\n",
    "        results = pool.starmap(solve_avq_trajectory, param_list)\n",
    "    \n",
    "    return results\n"
   ]
  },
  {
   "cell_type": "code",
   "execution_count": null,
   "metadata": {},
   "outputs": [],
   "source": [
    "from qmad.solver import solve_avq_trajectory\n",
    "from qmad.effh import EffectiveHamiltonian\n",
    "from qmad.ansatz import Ansatz\n",
    "# Guard for multiprocessing in Jupyter\n",
    "if __name__ == \"__main__\":\n",
    "    # Define your parameters (these are placeholders)\n",
    "    tf = 450\n",
    "    dt = 5\n",
    "    num_trajectory = 400\n",
    "    H = EffectiveHamiltonian([H_fmo], [Llist_f_padded])\n",
    "    ansatz = Ansatz(u0_fmo, relrcut=1e-5)\n",
    "\n",
    "    # Running the parallel trajectories\n",
    "    results = run_trajectories(num_trajectory, H, ansatz, tf, dt)\n"
   ]
  },
  {
   "cell_type": "code",
   "execution_count": 4,
   "metadata": {},
   "outputs": [],
   "source": [
    "Mexp_f = [\n",
    "    np.diag([0, 1, 0, 0, 0,0,0,0]),\n",
    "    np.diag([0, 0, 1, 0, 0,0,0,0]),\n",
    "    np.diag([0, 0, 0, 1, 0,0,0,0]),\n",
    "    np.diag([1, 0, 0, 0, 0,0,0,0]),\n",
    "    np.diag([0, 0, 0, 0, 1,0,0,0])\n",
    "]\n",
    "\n",
    "# Storage for accumulating the expectation values to compute the average\n",
    "average_expectation_values = []\n",
    "\n",
    "# Loop over each trajectory\n",
    "for j in range(0, num_trajectory):\n",
    "    # Loop over each observable\n",
    "    for k, observable in enumerate(Mexp_f):\n",
    "        expectation_values = []\n",
    "        \n",
    "        # Calculate expectation values for the current observable\n",
    "        for i, psi in enumerate(results[j].psi):\n",
    "            psi_dagger = np.conjugate(psi).T\n",
    "            rho = np.outer(psi, psi_dagger)  # Calculate the density matrix\n",
    "            expectation_value = np.trace(np.dot(rho, observable))  # Expectation value\n",
    "            \n",
    "            expectation_values.append(expectation_value.real)  # Append the real part of the expectation value\n",
    "        \n",
    "        # Store the expectation values for averaging later\n",
    "        if len(average_expectation_values) <= k:\n",
    "            average_expectation_values.append(np.array(expectation_values))  # Initialize the list\n",
    "        else:\n",
    "            average_expectation_values[k] += np.array(expectation_values)  # Accumulate values\n",
    "\n",
    "        # Convert time to femtoseconds\n",
    "        results_t_converted = [t for t in results[0].t]\n",
    "        \n",
    "average_expectation_values = [ev / num_trajectory for ev in average_expectation_values]\n"
   ]
  },
  {
   "cell_type": "code",
   "execution_count": null,
   "metadata": {},
   "outputs": [],
   "source": [
    "\n",
    "# Plot the average of all the observables\n",
    "for k, avg_values in enumerate(average_expectation_values):\n",
    "    plt.plot(results_t_converted[::3], avg_values[::3], '*', label=f\"Average of level {k+1}\")\n",
    "\n",
    "# Label the plot for the average\n",
    "plt.xlabel('Time (fs)')\n",
    "plt.ylabel('Average Expectation Value')\n",
    "plt.title('Average Expectation Value vs Time Across Trajectories')\n",
    "plt.legend()\n",
    "plt.grid(True)\n",
    "plt.show()\n"
   ]
  },
  {
   "cell_type": "code",
   "execution_count": 6,
   "metadata": {},
   "outputs": [],
   "source": [
    "from qutip import mesolve, Qobj\n",
    "import numpy as np\n",
    "import matplotlib.pyplot as plt\n",
    "def qutip_prop(H, rho0, time_arr, c_ops, observable):\n",
    "    \"\"\"\n",
    "    First import the mesolve function, which is used to solve master equations, and the Qobj class, which is used to represent quantum objects, from the QuTiP library.\n",
    "    - H: Hamiltonian of the system (Qobj).\n",
    "    - rho0: Initial density matrix (Qobj).\n",
    "    - time_arr: Time array for dynamic simulation (array).\n",
    "    - c_ops: List of collapse operators (list of Qobj), can be empty for Liouville equation.\n",
    "    - observable: Operator for which the expectation value is to be calculated (Qobj).\n",
    "    Returns:\n",
    "    - expec_vals: List of expectation values of the observable over time.\n",
    "    \"\"\"\n",
    "    result = mesolve(H, rho0, time_arr, c_ops, observable)\n",
    "    return result.expect"
   ]
  },
  {
   "cell_type": "code",
   "execution_count": 7,
   "metadata": {},
   "outputs": [],
   "source": [
    "# Hamiltonian\n",
    "H = Qobj([\n",
    "    [0, 0, 0, 0, 0],\n",
    "    [0, 0.0267, -0.0129, 0.000632, 0],\n",
    "    [0, -0.0129, 0.0273, 0.00404, 0],\n",
    "    [0, 0.000632, 0.00404, 0, 0],\n",
    "    [0, 0, 0, 0, 0],\n",
    "])\n",
    "\n",
    "alpha, beta, gamma = 3e-3, 5e-7, 6.28e-3\n",
    "\n",
    "# Define the alpha operators\n",
    "Llist_f = [Qobj(np.diag([0] * i + [np.sqrt(alpha)] + [0] * (4 - i))) for i in range(1, 4)]\n",
    "\n",
    "# Define the beta operators\n",
    "Llist_f += [Qobj(np.array([[np.sqrt(beta) if i == 0 and j == k else 0 for j in range(5)] for i in range(5)])) for k in range(1, 4)]\n",
    "\n",
    "# Define the gamma operator\n",
    "L_temp = np.zeros((5, 5))\n",
    "L_temp[4, 3] = np.sqrt(gamma)\n",
    "Llist_f.append(Qobj(L_temp))"
   ]
  },
  {
   "cell_type": "code",
   "execution_count": null,
   "metadata": {},
   "outputs": [],
   "source": [
    "# Plotting the results\n",
    "plt.figure(figsize=(10, 7))\n",
    "\n",
    "# Line width and marker size\n",
    "line_width = 2.5\n",
    "marker_size = 8\n",
    "\n",
    "# Define labels for the states\n",
    "labels = [\"State 1\", \"State 2\", \"State 3\", \"Ground State\", \"Sink State\"]\n",
    "\n",
    "# Define a colormap for consistent coloring\n",
    "colors = plt.cm.viridis(np.linspace(0, 1, len(population)))\n",
    "\n",
    "# Plot for population vs times\n",
    "for i, (expec, label) in enumerate(zip(population, labels)):\n",
    "    plt.plot(times, expec, label=label, color=colors[i], linewidth=line_width)\n",
    "\n",
    "# Plot for average_expectation_values vs results_t_converted\n",
    "for k, avg_values in enumerate(average_expectation_values):\n",
    "    plt.plot(results_t_converted[::3], avg_values[::3], \n",
    "             '*', color=colors[k], markersize=marker_size, label=f'{labels[k]}: SSE')\n",
    "\n",
    "# Set labels, title, and grid\n",
    "plt.xlabel('Time (fs)', fontsize=16, fontweight='bold')\n",
    "plt.ylabel('Population', fontsize=16, fontweight='bold')\n",
    "# plt.title('State Populations Over Time', fontsize=16, fontweight='bold')\n",
    "\n",
    "# Create a combined legend\n",
    "handles, labels = plt.gca().get_legend_handles_labels()\n",
    "by_label = dict(zip(labels, handles))\n",
    "\n",
    "plt.tick_params(axis='both', which='major', labelsize=16)  # Major ticks\n",
    "\n",
    "# Set up the horizontal legend at the top right\n",
    "plt.legend(by_label.values(), by_label.keys(), fontsize=12, loc='upper right', ncol=2, bbox_to_anchor=(1, 1))\n",
    "\n",
    "# Make gridlines bolder\n",
    "plt.grid(True, which='both', linestyle='--', linewidth=1.2)\n",
    "\n",
    "# Increase the thickness of the plot borders\n",
    "plt.gca().spines['top'].set_linewidth(1.5)\n",
    "plt.gca().spines['right'].set_linewidth(1.5)\n",
    "plt.gca().spines['left'].set_linewidth(1.5)\n",
    "plt.gca().spines['bottom'].set_linewidth(1.5)\n",
    "\n",
    "# Adjust layout and save the figure\n",
    "plt.tight_layout()\n",
    "plt.savefig(\"state_populations_horizontal_legend.png\", dpi=300)  # Save with high DPI for publication quality\n",
    "plt.show()\n"
   ]
  },
  {
   "cell_type": "code",
   "execution_count": null,
   "metadata": {},
   "outputs": [],
   "source": []
  }
 ],
 "metadata": {
  "kernelspec": {
   "display_name": "Python 3",
   "language": "python",
   "name": "python3"
  },
  "language_info": {
   "codemirror_mode": {
    "name": "ipython",
    "version": 3
   },
   "file_extension": ".py",
   "mimetype": "text/x-python",
   "name": "python",
   "nbconvert_exporter": "python",
   "pygments_lexer": "ipython3",
   "version": "3.9.6"
  }
 },
 "nbformat": 4,
 "nbformat_minor": 2
}
